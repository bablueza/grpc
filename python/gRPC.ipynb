{
 "cells": [
  {
   "cell_type": "code",
   "execution_count": null,
   "metadata": {},
   "outputs": [],
   "source": [
    "#conda install -n grpc ipykernel --update-deps --force-reinstall"
   ]
  },
  {
   "cell_type": "code",
   "execution_count": 2,
   "metadata": {},
   "outputs": [
    {
     "name": "stdout",
     "output_type": "stream",
     "text": [
      "Requirement already satisfied: grpcio in /Users/bablueza/opt/anaconda3/envs/grpc/lib/python3.6/site-packages (1.44.0)\n",
      "Requirement already satisfied: six>=1.5.2 in /Users/bablueza/opt/anaconda3/envs/grpc/lib/python3.6/site-packages (from grpcio) (1.16.0)\n",
      "Collecting grpcio-tools\n",
      "  Downloading grpcio_tools-1.44.0-cp36-cp36m-macosx_10_10_x86_64.whl (2.1 MB)\n",
      "\u001b[K     |████████████████████████████████| 2.1 MB 2.2 MB/s eta 0:00:01\n",
      "\u001b[?25hCollecting protobuf<4.0dev,>=3.5.0.post1\n",
      "  Downloading protobuf-3.19.4-cp36-cp36m-macosx_10_9_x86_64.whl (960 kB)\n",
      "\u001b[K     |████████████████████████████████| 960 kB 26.7 MB/s eta 0:00:01\n",
      "\u001b[?25hRequirement already satisfied: setuptools in /Users/bablueza/opt/anaconda3/envs/grpc/lib/python3.6/site-packages (from grpcio-tools) (58.0.4)\n",
      "Requirement already satisfied: grpcio>=1.44.0 in /Users/bablueza/opt/anaconda3/envs/grpc/lib/python3.6/site-packages (from grpcio-tools) (1.44.0)\n",
      "Requirement already satisfied: six>=1.5.2 in /Users/bablueza/opt/anaconda3/envs/grpc/lib/python3.6/site-packages (from grpcio>=1.44.0->grpcio-tools) (1.16.0)\n",
      "Installing collected packages: protobuf, grpcio-tools\n",
      "Successfully installed grpcio-tools-1.44.0 protobuf-3.19.4\n"
     ]
    }
   ],
   "source": [
    "! python -m pip install grpcio\n",
    "! pip install grpcio-tools"
   ]
  },
  {
   "cell_type": "markdown",
   "metadata": {},
   "source": [
    "# Proto file"
   ]
  },
  {
   "cell_type": "code",
   "execution_count": 7,
   "metadata": {},
   "outputs": [
    {
     "name": "stdout",
     "output_type": "stream",
     "text": [
      "Overwriting ../protos/chatbot.proto\n"
     ]
    }
   ],
   "source": [
    "%%writefile ../protos/chatbot.proto\n",
    "syntax = \"proto3\";\n",
    "\n",
    "package chatPack;\n",
    "\n",
    "service ChatService {\n",
    "  rpc ChatFunc (ChatRequest) returns (ChatReply) {}\n",
    "  rpc ChatStream (stream StreamText) returns (stream StreamText) {}\n",
    "}\n",
    "\n",
    "message ChatRequest {\n",
    "  string name = 1;\n",
    "}\n",
    "message ChatReply {\n",
    "  string result = 1;\n",
    "}\n",
    "\n",
    "message StreamText {\n",
    "  string name = 1;\n",
    "  string result = 2;\n",
    "}\n"
   ]
  },
  {
   "cell_type": "code",
   "execution_count": 8,
   "metadata": {},
   "outputs": [],
   "source": [
    "! python -m grpc_tools.protoc -I ../protos/ --python_out=. --grpc_python_out=. chatbot.proto\n"
   ]
  },
  {
   "cell_type": "markdown",
   "metadata": {},
   "source": [
    "# Server"
   ]
  },
  {
   "cell_type": "code",
   "execution_count": 9,
   "metadata": {},
   "outputs": [
    {
     "name": "stdout",
     "output_type": "stream",
     "text": [
      "Overwriting server.py\n"
     ]
    }
   ],
   "source": [
    "%%writefile server.py\n",
    "from concurrent import futures\n",
    "import logging\n",
    "\n",
    "import grpc\n",
    "import chatbot_pb2\n",
    "import chatbot_pb2_grpc\n",
    "\n",
    "\n",
    "class ChatService(chatbot_pb2_grpc.ChatService):\n",
    "\n",
    "    def ChatFunc(self, request, context):\n",
    "        return chatbot_pb2.ChatReply(result='Hello, %s!' % request.name)\n",
    "    def ChatStream(self, request_iterator, context):\n",
    "        for new_data in request_iterator:\n",
    "            print('ChatStream Recive data:'+new_data.name+':'+new_data.result)\n",
    "            yield chatbot_pb2.StreamText(name='1',result=new_data.result+' ok')\n",
    "        print('End ChatStream.')\n",
    "\n",
    "def serve():\n",
    "    server = grpc.server(futures.ThreadPoolExecutor(max_workers=10))\n",
    "    chatbot_pb2_grpc.add_ChatServiceServicer_to_server(ChatService(), server)\n",
    "    server.add_insecure_port('[::]:8099')\n",
    "    server.start()\n",
    "    server.wait_for_termination()\n",
    "\n",
    "\n",
    "if __name__ == '__main__':\n",
    "    logging.basicConfig()\n",
    "    serve()"
   ]
  },
  {
   "cell_type": "markdown",
   "metadata": {},
   "source": [
    "# Client"
   ]
  },
  {
   "cell_type": "code",
   "execution_count": 6,
   "metadata": {},
   "outputs": [
    {
     "name": "stdout",
     "output_type": "stream",
     "text": [
      "Chat client received: Hello blue\n"
     ]
    }
   ],
   "source": [
    "from __future__ import print_function\n",
    "import logging\n",
    "import grpc\n",
    "import chatbot_pb2\n",
    "import chatbot_pb2_grpc\n",
    "\n",
    "def run():\n",
    "    with grpc.insecure_channel('localhost:8099') as channel:\n",
    "        stub = chatbot_pb2_grpc.ChatServiceStub(channel)\n",
    "        response = stub.ChatFunc(chatbot_pb2.ChatRequest(name='blue'))\n",
    "    print(\"Chat client received: \" + response.result)\n",
    "\n",
    "logging.basicConfig()\n",
    "run()\n"
   ]
  },
  {
   "cell_type": "markdown",
   "metadata": {},
   "source": [
    "# async client"
   ]
  },
  {
   "cell_type": "code",
   "execution_count": 6,
   "metadata": {},
   "outputs": [
    {
     "name": "stdout",
     "output_type": "stream",
     "text": [
      "Collecting asyncio\n",
      "  Downloading asyncio-3.4.3-py3-none-any.whl (101 kB)\n",
      "\u001b[K     |████████████████████████████████| 101 kB 2.0 MB/s ta 0:00:01\n",
      "\u001b[?25hInstalling collected packages: asyncio\n",
      "Successfully installed asyncio-3.4.3\n"
     ]
    }
   ],
   "source": [
    "! pip install asyncio"
   ]
  },
  {
   "cell_type": "code",
   "execution_count": 5,
   "metadata": {},
   "outputs": [
    {
     "name": "stdout",
     "output_type": "stream",
     "text": [
      "Overwriting async_client.py\n"
     ]
    }
   ],
   "source": [
    "%%writefile async_client.py\n",
    "import asyncio\n",
    "import logging\n",
    "\n",
    "import grpc\n",
    "import chatbot_pb2\n",
    "import chatbot_pb2_grpc\n",
    "\n",
    "\n",
    "async def runAsync() -> None:\n",
    "    async with grpc.aio.insecure_channel('localhost:8099') as channel:\n",
    "        stub = chatbot_pb2_grpc.ChatServiceStub(channel)\n",
    "        response = await stub.ChatFunc(chatbot_pb2.ChatRequest(name='you'))\n",
    "    print(\"Chat client received: \" + response.result)\n",
    "\n",
    "\n",
    "if __name__ == '__main__':\n",
    "    logging.basicConfig()\n",
    "    # asyncio.run(run())\n",
    "    loop = asyncio.get_event_loop()\n",
    "    loop.run_until_complete(runAsync())"
   ]
  },
  {
   "cell_type": "code",
   "execution_count": 6,
   "metadata": {},
   "outputs": [
    {
     "name": "stdout",
     "output_type": "stream",
     "text": [
      "Chat client received: Hello, you!\n"
     ]
    }
   ],
   "source": [
    "! python async_client.py"
   ]
  },
  {
   "cell_type": "markdown",
   "metadata": {},
   "source": [
    "# Client stream"
   ]
  },
  {
   "cell_type": "code",
   "execution_count": 4,
   "metadata": {},
   "outputs": [
    {
     "name": "stdout",
     "output_type": "stream",
     "text": [
      "biStream client received: 1:zero ok\n",
      "biStream client received: 1:one ok\n",
      "biStream client received: 1:two ok\n"
     ]
    }
   ],
   "source": [
    "import grpc\n",
    "import chatbot_pb2\n",
    "import chatbot_pb2_grpc\n",
    "def make_data(name, result):\n",
    "    return chatbot_pb2.StreamText(\n",
    "        name=name,\n",
    "        result=result)\n",
    "def generate_messages():\n",
    "    messages = [\n",
    "        make_data('0','zero'),\n",
    "        make_data('0','one'),\n",
    "        make_data('0','two'),\n",
    "    ]\n",
    "    for msg in messages:\n",
    "        yield msg\n",
    "def biStreamClient(stub): \n",
    "    response = stub.ChatStream(generate_messages())\n",
    "    for resp in response:\n",
    "        print(\"biStream client received: \" + str(resp.name) + ':' + resp.result)\n",
    "def run():\n",
    "    with grpc.insecure_channel('localhost:8099') as channel:\n",
    "        stub = chatbot_pb2_grpc.ChatServiceStub(channel)\n",
    "        biStreamClient(stub)\n",
    "run()"
   ]
  }
 ],
 "metadata": {
  "interpreter": {
   "hash": "826a4dec6dbd334b37b0b009e016c602b3381788eafcd6b52e7e7aa795b25baf"
  },
  "kernelspec": {
   "display_name": "Python 3.6.13 ('grpc')",
   "language": "python",
   "name": "python3"
  },
  "language_info": {
   "codemirror_mode": {
    "name": "ipython",
    "version": 3
   },
   "file_extension": ".py",
   "mimetype": "text/x-python",
   "name": "python",
   "nbconvert_exporter": "python",
   "pygments_lexer": "ipython3",
   "version": "3.6.13"
  },
  "orig_nbformat": 4
 },
 "nbformat": 4,
 "nbformat_minor": 2
}
