{
 "cells": [
  {
   "cell_type": "markdown",
   "metadata": {},
   "source": [
    "# Install"
   ]
  },
  {
   "cell_type": "code",
   "execution_count": null,
   "metadata": {},
   "outputs": [],
   "source": [
    "%apt-get update &&  apt-get install -y dotnet-sdk-8.0"
   ]
  },
  {
   "cell_type": "code",
   "execution_count": null,
   "metadata": {},
   "outputs": [],
   "source": [
    "# wget https://packages.microsoft.com/config/ubuntu/20.04/packages-microsoft-prod.deb -O packages-microsoft-prod.deb\n",
    "# dpkg -i packages-microsoft-prod.deb\n",
    "# rm packages-microsoft-prod.deb\n",
    "# apt-get update && apt-get install -y dotnet-sdk-8.0"
   ]
  },
  {
   "cell_type": "code",
   "execution_count": null,
   "metadata": {},
   "outputs": [],
   "source": [
    "%apt install protobuf-compiler\n"
   ]
  },
  {
   "cell_type": "markdown",
   "metadata": {},
   "source": [
    "# Make folder project"
   ]
  },
  {
   "cell_type": "code",
   "execution_count": 1,
   "metadata": {},
   "outputs": [],
   "source": [
    "! mkdir Greeter"
   ]
  },
  {
   "cell_type": "markdown",
   "metadata": {},
   "source": [
    "# Proto file"
   ]
  },
  {
   "cell_type": "code",
   "execution_count": 3,
   "metadata": {},
   "outputs": [],
   "source": [
    "! mkdir Greeter/protos"
   ]
  },
  {
   "cell_type": "code",
   "execution_count": 4,
   "metadata": {},
   "outputs": [
    {
     "name": "stdout",
     "output_type": "stream",
     "text": [
      "Writing Greeter/protos/helloworld.proto\n"
     ]
    }
   ],
   "source": [
    "%%writefile Greeter/protos/helloworld.proto\n",
    "syntax = \"proto3\";\n",
    "\n",
    "option java_multiple_files = true;\n",
    "option java_package = \"io.grpc.examples.helloworld\";\n",
    "option java_outer_classname = \"HelloWorldProto\";\n",
    "option objc_class_prefix = \"HLW\";\n",
    "\n",
    "package helloworld;\n",
    "\n",
    "// The greeting service definition.\n",
    "service Greeter {\n",
    "  // Sends a greeting\n",
    "  rpc SayHello (HelloRequest) returns (HelloReply) {}\n",
    "}\n",
    "\n",
    "// The request message containing the user's name.\n",
    "message HelloRequest {\n",
    "  string name = 1;\n",
    "}\n",
    "\n",
    "// The response message containing the greetings\n",
    "message HelloReply {\n",
    "  string message = 1;\n",
    "}"
   ]
  },
  {
   "cell_type": "markdown",
   "metadata": {},
   "source": [
    "# grpc-dotnet-build\n",
    "- https://grpc.io/blog/grpc-dotnet-build/"
   ]
  },
  {
   "cell_type": "code",
   "execution_count": 12,
   "metadata": {},
   "outputs": [
    {
     "name": "stdout",
     "output_type": "stream",
     "text": [
      "\u001b[?1h\u001b=The template \"Console App\" was created successfully.\n",
      "\n",
      "Processing post-creation actions...\n",
      "Restoring /opt/data/WebDev/gRPC/C#/Greeter/GreeterShared/GreeterShared.csproj:\n",
      "  Determining projects to restore...\n",
      "  Restored /opt/data/WebDev/gRPC/C#/Greeter/GreeterShared/GreeterShared.csproj (in 92 ms).\n",
      "Restore succeeded.\n",
      "\n",
      "\n"
     ]
    }
   ],
   "source": [
    "! dotnet new console -o Greeter/GreeterShared"
   ]
  },
  {
   "cell_type": "code",
   "execution_count": 13,
   "metadata": {},
   "outputs": [
    {
     "name": "stdout",
     "output_type": "stream",
     "text": [
      "\u001b[?1h\u001b=The template \"Console App\" was created successfully.\n",
      "\n",
      "Processing post-creation actions...\n",
      "Restoring /opt/data/WebDev/gRPC/C#/Greeter/GreeterServer/GreeterServer.csproj:\n",
      "  Determining projects to restore...\n",
      "  Restored /opt/data/WebDev/gRPC/C#/Greeter/GreeterServer/GreeterServer.csproj (in 96 ms).\n",
      "Restore succeeded.\n",
      "\n",
      "\n"
     ]
    }
   ],
   "source": [
    "! dotnet new console -o Greeter/GreeterServer"
   ]
  },
  {
   "cell_type": "code",
   "execution_count": 14,
   "metadata": {},
   "outputs": [
    {
     "name": "stdout",
     "output_type": "stream",
     "text": [
      "\u001b[?1h\u001b=The template \"Console App\" was created successfully.\n",
      "\n",
      "Processing post-creation actions...\n",
      "Restoring /opt/data/WebDev/gRPC/C#/Greeter/GreeterClient/GreeterClient.csproj:\n",
      "  Determining projects to restore...\n",
      "  Restored /opt/data/WebDev/gRPC/C#/Greeter/GreeterClient/GreeterClient.csproj (in 95 ms).\n",
      "Restore succeeded.\n",
      "\n",
      "\n"
     ]
    }
   ],
   "source": [
    "\n",
    "! dotnet new console -o Greeter/GreeterClient\n"
   ]
  },
  {
   "cell_type": "markdown",
   "metadata": {},
   "source": [
    "## Gen photo file"
   ]
  },
  {
   "cell_type": "code",
   "execution_count": 15,
   "metadata": {},
   "outputs": [],
   "source": [
    "! protoc --proto_path=Greeter/protos --csharp_out=Greeter/GreeterShared/ helloworld.proto"
   ]
  },
  {
   "cell_type": "markdown",
   "metadata": {},
   "source": [
    "# GreeterShared"
   ]
  },
  {
   "cell_type": "markdown",
   "metadata": {},
   "source": [
    "## Make HelloworldGrpc.cs"
   ]
  },
  {
   "cell_type": "code",
   "execution_count": 16,
   "metadata": {},
   "outputs": [
    {
     "name": "stdout",
     "output_type": "stream",
     "text": [
      "Writing Greeter/GreeterShared/HelloworldGrpc.cs\n"
     ]
    }
   ],
   "source": [
    "%%writefile Greeter/GreeterShared/HelloworldGrpc.cs\n",
    "#pragma warning disable 1591\n",
    "#region Designer generated code\n",
    "\n",
    "using grpc = global::Grpc.Core;\n",
    "\n",
    "namespace Helloworld {\n",
    "  public static partial class Greeter\n",
    "  {\n",
    "    static readonly string __ServiceName = \"helloworld.Greeter\";\n",
    "\n",
    "    static readonly grpc::Marshaller<global::Helloworld.HelloRequest> __Marshaller_HelloRequest = grpc::Marshallers.Create((arg) => global::Google.Protobuf.MessageExtensions.ToByteArray(arg), global::Helloworld.HelloRequest.Parser.ParseFrom);\n",
    "    static readonly grpc::Marshaller<global::Helloworld.HelloReply> __Marshaller_HelloReply = grpc::Marshallers.Create((arg) => global::Google.Protobuf.MessageExtensions.ToByteArray(arg), global::Helloworld.HelloReply.Parser.ParseFrom);\n",
    "\n",
    "    static readonly grpc::Method<global::Helloworld.HelloRequest, global::Helloworld.HelloReply> __Method_SayHello = new grpc::Method<global::Helloworld.HelloRequest, global::Helloworld.HelloReply>(\n",
    "        grpc::MethodType.Unary,\n",
    "        __ServiceName,\n",
    "        \"SayHello\",\n",
    "        __Marshaller_HelloRequest,\n",
    "        __Marshaller_HelloReply);\n",
    "\n",
    "    public static global::Google.Protobuf.Reflection.ServiceDescriptor Descriptor\n",
    "    {\n",
    "      get { return global::Helloworld.HelloworldReflection.Descriptor.Services[0]; }\n",
    "    }\n",
    "    public abstract partial class GreeterBase\n",
    "    {\n",
    "      public virtual global::System.Threading.Tasks.Task<global::Helloworld.HelloReply> SayHello(global::Helloworld.HelloRequest request, grpc::ServerCallContext context)\n",
    "      {\n",
    "        throw new grpc::RpcException(new grpc::Status(grpc::StatusCode.Unimplemented, \"\"));\n",
    "      }\n",
    "\n",
    "    }\n",
    "\n",
    "    public partial class GreeterClient : grpc::ClientBase<GreeterClient>\n",
    "    {\n",
    "      public GreeterClient(grpc::Channel channel) : base(channel)\n",
    "      {\n",
    "      }\n",
    "      public GreeterClient(grpc::CallInvoker callInvoker) : base(callInvoker)\n",
    "      {\n",
    "      }\n",
    "      protected GreeterClient() : base()\n",
    "      {\n",
    "      }\n",
    "      protected GreeterClient(ClientBaseConfiguration configuration) : base(configuration)\n",
    "      {\n",
    "      }\n",
    "      public virtual global::Helloworld.HelloReply SayHello(global::Helloworld.HelloRequest request, grpc::Metadata headers = null, global::System.DateTime? deadline = null, global::System.Threading.CancellationToken cancellationToken = default(global::System.Threading.CancellationToken))\n",
    "      {\n",
    "        return SayHello(request, new grpc::CallOptions(headers, deadline, cancellationToken));\n",
    "      }\n",
    "      public virtual global::Helloworld.HelloReply SayHello(global::Helloworld.HelloRequest request, grpc::CallOptions options)\n",
    "      {\n",
    "        return CallInvoker.BlockingUnaryCall(__Method_SayHello, null, options, request);\n",
    "      }\n",
    "      public virtual grpc::AsyncUnaryCall<global::Helloworld.HelloReply> SayHelloAsync(global::Helloworld.HelloRequest request, grpc::Metadata headers = null, global::System.DateTime? deadline = null, global::System.Threading.CancellationToken cancellationToken = default(global::System.Threading.CancellationToken))\n",
    "      {\n",
    "        return SayHelloAsync(request, new grpc::CallOptions(headers, deadline, cancellationToken));\n",
    "      }\n",
    "      public virtual grpc::AsyncUnaryCall<global::Helloworld.HelloReply> SayHelloAsync(global::Helloworld.HelloRequest request, grpc::CallOptions options)\n",
    "      {\n",
    "        return CallInvoker.AsyncUnaryCall(__Method_SayHello, null, options, request);\n",
    "      }\n",
    "      protected override GreeterClient NewInstance(ClientBaseConfiguration configuration)\n",
    "      {\n",
    "        return new GreeterClient(configuration);\n",
    "      }\n",
    "    }\n",
    "    public static grpc::ServerServiceDefinition BindService(GreeterBase serviceImpl)\n",
    "    {\n",
    "      return grpc::ServerServiceDefinition.CreateBuilder()\n",
    "          .AddMethod(__Method_SayHello, serviceImpl.SayHello).Build();\n",
    "    }\n",
    "\n",
    "  }\n",
    "}\n",
    "#endregion"
   ]
  },
  {
   "cell_type": "markdown",
   "metadata": {},
   "source": [
    "## Delete Program.cs file"
   ]
  },
  {
   "cell_type": "code",
   "execution_count": 17,
   "metadata": {},
   "outputs": [],
   "source": [
    "! rm -rf Greeter/GreeterShared/Program.cs"
   ]
  },
  {
   "cell_type": "code",
   "execution_count": 26,
   "metadata": {},
   "outputs": [
    {
     "name": "stdout",
     "output_type": "stream",
     "text": [
      "Overwriting Greeter/GreeterShared/GreeterShared.csproj\n"
     ]
    }
   ],
   "source": [
    "%%writefile Greeter/GreeterShared/GreeterShared.csproj\n",
    "<Project Sdk=\"Microsoft.NET.Sdk\">\n",
    "\n",
    "  <PropertyGroup>\n",
    "    <AssemblyTitle>Greeter</AssemblyTitle>\n",
    "    <TargetFramework>net8.0</TargetFramework>\n",
    "    <AssemblyName>GreeterShared</AssemblyName>\n",
    "    <PackageId>Greeter</PackageId>\n",
    "    <RootNamespace>GreeterShared</RootNamespace>\n",
    "  </PropertyGroup>\n",
    "\n",
    "  <ItemGroup>\n",
    "    <PackageReference Include=\"Google.Protobuf\" Version=\"3.15.0\" />\n",
    "    <PackageReference Include=\"Google.Protobuf.Tools\" Version=\"3.5.1\" />\n",
    "    <PackageReference Include=\"Grpc\" Version=\"1.12.0\" />\n",
    "    <PackageReference Include=\"Grpc.Tools\" Version=\"1.12.0\" />\n",
    "  </ItemGroup>\n",
    "\n",
    "</Project>"
   ]
  },
  {
   "cell_type": "markdown",
   "metadata": {},
   "source": [
    "## run build"
   ]
  },
  {
   "cell_type": "code",
   "execution_count": 27,
   "metadata": {},
   "outputs": [
    {
     "name": "stdout",
     "output_type": "stream",
     "text": [
      "/opt/data/WebDev/gRPC/C#/Greeter/GreeterShared\n"
     ]
    }
   ],
   "source": [
    "%cd Greeter/GreeterShared/"
   ]
  },
  {
   "cell_type": "code",
   "execution_count": 29,
   "metadata": {},
   "outputs": [
    {
     "name": "stdout",
     "output_type": "stream",
     "text": [
      "\u001b[?1h\u001b=  Determining projects to restore...\n",
      "  All projects are up-to-date for restore.\n",
      "  GreeterShared -> /opt/data/WebDev/gRPC/C#/Greeter/GreeterShared/bin/Debug/net8.0/GreeterShared.dll\n",
      "\u001b[m\u001b[32m\n",
      "Build succeeded.\n",
      "\u001b[m    0 Warning(s)\n",
      "\u001b[m    0 Error(s)\n",
      "\u001b[m\n",
      "Time Elapsed 00:00:00.99\n"
     ]
    }
   ],
   "source": [
    "\n",
    "! dotnet build "
   ]
  },
  {
   "cell_type": "markdown",
   "metadata": {},
   "source": [
    "# GreetServer"
   ]
  },
  {
   "cell_type": "code",
   "execution_count": 30,
   "metadata": {},
   "outputs": [
    {
     "name": "stdout",
     "output_type": "stream",
     "text": [
      "/opt/data/WebDev/gRPC/C#\n"
     ]
    }
   ],
   "source": [
    "%cd ../../"
   ]
  },
  {
   "cell_type": "code",
   "execution_count": 32,
   "metadata": {},
   "outputs": [
    {
     "name": "stdout",
     "output_type": "stream",
     "text": [
      "Overwriting Greeter/GreeterServer/GreeterServer.csproj\n"
     ]
    }
   ],
   "source": [
    "%%writefile Greeter/GreeterServer/GreeterServer.csproj\n",
    "<Project Sdk=\"Microsoft.NET.Sdk\">\n",
    "  <PropertyGroup>\n",
    "    <AssemblyTitle>GreeterServer</AssemblyTitle>\n",
    "    <OutputType>Exe</OutputType>\n",
    "    <TargetFramework>net8.0</TargetFramework>\n",
    "    <AssemblyName>GreeterServer</AssemblyName>\n",
    "    <PackageId>GreeterServer</PackageId>\n",
    "  </PropertyGroup>\n",
    "\n",
    "  <ItemGroup>\n",
    "    <ProjectReference Include=\"..\\GreeterShared\\GreeterShared.csproj\" />\n",
    "  </ItemGroup>\n",
    "\n",
    "</Project>"
   ]
  },
  {
   "cell_type": "code",
   "execution_count": 33,
   "metadata": {},
   "outputs": [
    {
     "name": "stdout",
     "output_type": "stream",
     "text": [
      "Overwriting Greeter/GreeterServer/Program.cs\n"
     ]
    }
   ],
   "source": [
    "%%writefile Greeter/GreeterServer/Program.cs\n",
    "\n",
    "using System;\n",
    "using System.Threading.Tasks;\n",
    "using Grpc.Core;\n",
    "using Helloworld;\n",
    "\n",
    "namespace GreeterServer\n",
    "{\n",
    "    class GreeterImpl : Greeter.GreeterBase\n",
    "    {\n",
    "        // Server side handler of the SayHello RPC\n",
    "        public override Task<HelloReply> SayHello(HelloRequest request, ServerCallContext context)\n",
    "        {\n",
    "            return Task.FromResult(new HelloReply { Message = \"Hello \" + request.Name });\n",
    "        }\n",
    "    }\n",
    "\n",
    "    class Program\n",
    "    {\n",
    "        const int Port = 50051;\n",
    "\n",
    "        public static void Main(string[] args)\n",
    "        {\n",
    "            Server server = new Server\n",
    "            {\n",
    "                Services = { Greeter.BindService(new GreeterImpl()) },\n",
    "                Ports = { new ServerPort(\"localhost\", Port, ServerCredentials.Insecure) }\n",
    "            };\n",
    "            server.Start();\n",
    "\n",
    "            Console.WriteLine(\"Greeter server listening on port \" + Port);\n",
    "            Console.WriteLine(\"Press any key to stop the server...\");\n",
    "            Console.ReadKey();\n",
    "\n",
    "            server.ShutdownAsync().Wait();\n",
    "        }\n",
    "    }\n",
    "}"
   ]
  },
  {
   "cell_type": "code",
   "execution_count": null,
   "metadata": {},
   "outputs": [],
   "source": [
    "%cd Greeter/GreeterServer/"
   ]
  },
  {
   "cell_type": "code",
   "execution_count": null,
   "metadata": {},
   "outputs": [],
   "source": [
    "! dotnet run"
   ]
  },
  {
   "cell_type": "markdown",
   "metadata": {},
   "source": [
    "# GreetClent"
   ]
  },
  {
   "cell_type": "code",
   "execution_count": 34,
   "metadata": {},
   "outputs": [
    {
     "name": "stdout",
     "output_type": "stream",
     "text": [
      "Overwriting Greeter/GreeterClient/GreeterClient.csproj\n"
     ]
    }
   ],
   "source": [
    "%%writefile Greeter/GreeterClient/GreeterClient.csproj\n",
    "<Project Sdk=\"Microsoft.NET.Sdk\">\n",
    "\n",
    "  <PropertyGroup>\n",
    "    <AssemblyTitle>GreeterClient</AssemblyTitle>\n",
    "    <OutputType>Exe</OutputType>\n",
    "    <TargetFramework>net8.0</TargetFramework>\n",
    "    <AssemblyName>GreeterClient</AssemblyName>\n",
    "    <PackageId>GreeterClient</PackageId>\n",
    "  </PropertyGroup>\n",
    "\n",
    "  <ItemGroup>\n",
    "    <ProjectReference Include=\"..\\GreeterShared\\GreeterShared.csproj\" />\n",
    "  </ItemGroup>\n",
    "\n",
    "</Project>\n"
   ]
  },
  {
   "cell_type": "code",
   "execution_count": 44,
   "metadata": {},
   "outputs": [
    {
     "name": "stdout",
     "output_type": "stream",
     "text": [
      "Overwriting Greeter/GreeterClient/Program.cs\n"
     ]
    }
   ],
   "source": [
    "%%writefile Greeter/GreeterClient/Program.cs\n",
    "\n",
    "using System;\n",
    "using Grpc.Core;\n",
    "using Helloworld;\n",
    "\n",
    "namespace GreeterClient\n",
    "{\n",
    "    class Program\n",
    "    {\n",
    "        public static void Main(string[] args)\n",
    "        {\n",
    "            Channel channel = new Channel(\"127.0.0.1:50051\", ChannelCredentials.Insecure);\n",
    "\n",
    "            var client = new Greeter.GreeterClient(channel);\n",
    "            String user = \"you\";\n",
    "\n",
    "            var reply = client.SayHello(new HelloRequest { Name = user });\n",
    "            Console.WriteLine(\"Greeting: \" + reply.Message);\n",
    "\n",
    "            channel.ShutdownAsync().Wait();\n",
    "            Console.WriteLine(\"Press any key to exit...\");\n",
    "            Console.ReadKey();\n",
    "        }\n",
    "    }\n",
    "}"
   ]
  },
  {
   "cell_type": "code",
   "execution_count": 45,
   "metadata": {},
   "outputs": [
    {
     "name": "stdout",
     "output_type": "stream",
     "text": [
      "/opt/data/WebDev/gRPC/C#/Greeter/GreeterClient\n"
     ]
    }
   ],
   "source": [
    "%cd Greeter/GreeterClient/"
   ]
  },
  {
   "cell_type": "code",
   "execution_count": 46,
   "metadata": {},
   "outputs": [
    {
     "name": "stdout",
     "output_type": "stream",
     "text": [
      "\u001b[?1h\u001b=\u001b[?1h\u001b=Greeting: Hello you\n",
      "Press any key to exit...\n",
      "\u001b[?1h\u001b="
     ]
    }
   ],
   "source": [
    "! dotnet run"
   ]
  },
  {
   "cell_type": "code",
   "execution_count": 43,
   "metadata": {},
   "outputs": [
    {
     "name": "stdout",
     "output_type": "stream",
     "text": [
      "/opt/data/WebDev/gRPC/C#\n"
     ]
    }
   ],
   "source": [
    "%cd ../../"
   ]
  }
 ],
 "metadata": {
  "kernelspec": {
   "display_name": "Python 3",
   "language": "python",
   "name": "python3"
  },
  "language_info": {
   "codemirror_mode": {
    "name": "ipython",
    "version": 3
   },
   "file_extension": ".py",
   "mimetype": "text/x-python",
   "name": "python",
   "nbconvert_exporter": "python",
   "pygments_lexer": "ipython3",
   "version": "3.11.9"
  }
 },
 "nbformat": 4,
 "nbformat_minor": 2
}
