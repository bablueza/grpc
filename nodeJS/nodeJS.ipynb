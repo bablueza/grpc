{
 "cells": [
  {
   "cell_type": "markdown",
   "metadata": {},
   "source": [
    "# Install nodejs\n",
    "- https://medium.com/nectec/node-js-grpc-639729d5e545\n",
    "- https://medium.com/nectec/node-js-grpc-streaming-7ac9b1e1090e\n"
   ]
  },
  {
   "cell_type": "code",
   "execution_count": null,
   "metadata": {},
   "outputs": [],
   "source": [
    "! apt install nodejs\n",
    "\n",
    "! node -v\n",
    "\n",
    "! apt update\n",
    "! apt install npm\n",
    "! npm -v"
   ]
  },
  {
   "cell_type": "markdown",
   "metadata": {},
   "source": [
    "# intial project"
   ]
  },
  {
   "cell_type": "code",
   "execution_count": null,
   "metadata": {},
   "outputs": [],
   "source": [
    "! npm init -y"
   ]
  },
  {
   "cell_type": "markdown",
   "metadata": {},
   "source": [
    "# Create package.json"
   ]
  },
  {
   "cell_type": "code",
   "execution_count": null,
   "metadata": {},
   "outputs": [],
   "source": [
    "%%writefile package.json\n",
    "{\n",
    "  \"name\": \"gRPC\",\n",
    "  \"version\": \"1.0.0\",\n",
    "  \"description\": \"\",\n",
    "  \"main\": \"server.js\",\n",
    "  \"scripts\": {\n",
    "    \"start\": \"node server.js\"\n",
    "  },\n",
    "  \"keywords\": [],\n",
    "  \"author\": \"\",\n",
    "  \"license\": \"ISC\",\n",
    "  \"dependencies\": {\n",
    "    \"@grpc/grpc-js\": \"^1.3.2\",\n",
    "    \"@grpc/proto-loader\": \"^0.5.0\",\n",
    "    \"async\": \"^3.2.0\",\n",
    "    \"google-protobuf\": \"^3.6.1\",\n",
    "    \"node-grpc-client\": \"^1.5.0\"\n",
    "  }\n",
    "}\n"
   ]
  },
  {
   "cell_type": "markdown",
   "metadata": {},
   "source": [
    "# Install package"
   ]
  },
  {
   "cell_type": "code",
   "execution_count": 1,
   "metadata": {},
   "outputs": [
    {
     "name": "stdout",
     "output_type": "stream",
     "text": [
      "\u001b[K\u001b[?25h\u001b[37;40mnpm\u001b[0m \u001b[0m\u001b[30;43mWARN\u001b[0m \u001b[0m\u001b[35mdeprecated\u001b[0m grpc@1.24.11: This library will not receive further updates other than security fixes. We recommend using @grpc/grpc-js instead.\n",
      "\u001b[K\u001b[?25h\u001b[37;40mnpm\u001b[0m \u001b[0m\u001b[30;43mWARN\u001b[0m \u001b[0m\u001b[35mdeprecated\u001b[0m glob@7.2.3: Glob versions prior to v9 are no longer supportedm\u001b[K\n",
      "\u001b[K\u001b[?25h\u001b[37;40mnpm\u001b[0m \u001b[0m\u001b[30;43mWARN\u001b[0m \u001b[0m\u001b[35mdeprecated\u001b[0m rimraf@3.0.2: Rimraf versions prior to v4 are no longer supported\n",
      "\u001b[0m\u001b[37;40mnpm\u001b[0m \u001b[0m\u001b[30;43mWARN\u001b[0m \u001b[0m\u001b[35mdeprecated\u001b[0m npmlog@5.0.1: This package is no longer supported.\n",
      "\u001b[K\u001b[?25h\u001b[37;40mnpm\u001b[0m \u001b[0m\u001b[30;43mWARN\u001b[0m \u001b[0m\u001b[35mdeprecated\u001b[0m inflight@1.0.6: This module is not supported, and leaks memory. Do not use it. Check out lru-cache if you want a good and tested way to coalesce async requests by a key value, which is much more comprehensive and powerful.\n",
      "\u001b[K\u001b[?25h\u001b[37;40mnpm\u001b[0m \u001b[0m\u001b[30;43mWARN\u001b[0m \u001b[0m\u001b[35mdeprecated\u001b[0m gauge@3.0.2: This package is no longer supported.[Kwid\u001b[0m\u001b[K\n",
      "\u001b[0m\u001b[37;40mnpm\u001b[0m \u001b[0m\u001b[30;43mWARN\u001b[0m \u001b[0m\u001b[35mdeprecated\u001b[0m are-we-there-yet@2.0.0: This package is no longer supported.\n",
      "\u001b[K\u001b[?25h        \u001b[27m\u001b[90m......\u001b[0m] - build:long: \u001b[7msill\u001b[0m \u001b[35mlinkStuff\u001b[0m long@5.2.3 has /opt/data/WebD\u001b[0m\u001b[Km\u001b[K: T\u001b[0m\u001b[K\n",
      "> grpc@1.24.11 install /opt/data/WebDev/gRPC/nodeJS/node_modules/grpc\n",
      "> node-pre-gyp install --fallback-to-build --library=static_library\n",
      "\n",
      "[grpc] Success: \"/opt/data/WebDev/gRPC/nodeJS/node_modules/grpc/src/node/extension_binary/node-v64-linux-x64-glibc/grpc_node.node\" is installed via remote\n",
      "\n",
      "> protobufjs@6.11.4 postinstall /opt/data/WebDev/gRPC/nodeJS/node_modules/@grpc/proto-loader/node_modules/protobufjs\n",
      "> node scripts/postinstall\n",
      "\n",
      "\n",
      "> protobufjs@7.3.2 postinstall /opt/data/WebDev/gRPC/nodeJS/node_modules/protobufjs\n",
      "> node scripts/postinstall\n",
      "\n",
      "\u001b[K\u001b[?25h\u001b[37;40mnpm\u001b[0m \u001b[0m\u001b[34;40mnotice\u001b[0m\u001b[35m\u001b[0m created a lockfile as package-lock.json. You should commit this file.[K\n",
      "\u001b[0m\u001b[37;40mnpm\u001b[0m \u001b[0m\u001b[30;43mWARN\u001b[0m \u001b[0m\u001b[35mnotsup\u001b[0m Unsupported engine for @grpc/grpc-js@1.11.1: wanted: {\"node\":\">=12.10.0\"} (current: {\"node\":\"10.19.0\",\"npm\":\"6.14.4\"})\n",
      "\u001b[0m\u001b[37;40mnpm\u001b[0m \u001b[0m\u001b[30;43mWARN\u001b[0m \u001b[0m\u001b[35mnotsup\u001b[0m Not compatible with your version of node/npm: @grpc/grpc-js@1.11.1\n",
      "\u001b[0m\u001b[37;40mnpm\u001b[0m \u001b[0m\u001b[30;43mWARN\u001b[0m \u001b[0m\u001b[35mnotsup\u001b[0m Unsupported engine for yargs@17.7.2: wanted: {\"node\":\">=12\"} (current: {\"node\":\"10.19.0\",\"npm\":\"6.14.4\"})\n",
      "\u001b[0m\u001b[37;40mnpm\u001b[0m \u001b[0m\u001b[30;43mWARN\u001b[0m \u001b[0m\u001b[35mnotsup\u001b[0m Not compatible with your version of node/npm: yargs@17.7.2\n",
      "\u001b[0m\u001b[37;40mnpm\u001b[0m \u001b[0m\u001b[30;43mWARN\u001b[0m \u001b[0m\u001b[35mnotsup\u001b[0m Unsupported engine for protobufjs@7.3.2: wanted: {\"node\":\">=12.0.0\"} (current: {\"node\":\"10.19.0\",\"npm\":\"6.14.4\"})\n",
      "\u001b[0m\u001b[37;40mnpm\u001b[0m \u001b[0m\u001b[30;43mWARN\u001b[0m \u001b[0m\u001b[35mnotsup\u001b[0m Not compatible with your version of node/npm: protobufjs@7.3.2\n",
      "\u001b[0m\u001b[37;40mnpm\u001b[0m \u001b[0m\u001b[30;43mWARN\u001b[0m \u001b[0m\u001b[35mnotsup\u001b[0m Unsupported engine for cliui@8.0.1: wanted: {\"node\":\">=12\"} (current: {\"node\":\"10.19.0\",\"npm\":\"6.14.4\"})\n",
      "\u001b[0m\u001b[37;40mnpm\u001b[0m \u001b[0m\u001b[30;43mWARN\u001b[0m \u001b[0m\u001b[35mnotsup\u001b[0m Not compatible with your version of node/npm: cliui@8.0.1\n",
      "\u001b[0m\u001b[37;40mnpm\u001b[0m \u001b[0m\u001b[30;43mWARN\u001b[0m \u001b[0m\u001b[35mnotsup\u001b[0m Unsupported engine for yargs-parser@21.1.1: wanted: {\"node\":\">=12\"} (current: {\"node\":\"10.19.0\",\"npm\":\"6.14.4\"})\n",
      "\u001b[0m\u001b[37;40mnpm\u001b[0m \u001b[0m\u001b[30;43mWARN\u001b[0m \u001b[0m\u001b[35mnotsup\u001b[0m Not compatible with your version of node/npm: yargs-parser@21.1.1\n",
      "\u001b[0m\u001b[37;40mnpm\u001b[0m \u001b[0m\u001b[30;43mWARN\u001b[0m\u001b[35m\u001b[0m gRPC@1.0.0 No repository field.\n",
      "\u001b[0m\n",
      "added 120 packages from 105 contributors and audited 120 packages in 6.678s\n",
      "\n",
      "7 packages are looking for funding\n",
      "  run `npm fund` for details\n",
      "\n",
      "found \u001b[92m0\u001b[0m vulnerabilities\n",
      "\n",
      "\u001b[K\u001b[?25h7m             \u001b[27m\u001b[90m.....\u001b[0m] \\ prepare:nodeJS: \u001b[7msill\u001b[0m \u001b[35minstall\u001b[0m printInstalled\u001b[0m\u001b[K"
     ]
    }
   ],
   "source": [
    "! npm install"
   ]
  },
  {
   "cell_type": "markdown",
   "metadata": {},
   "source": [
    "# Server"
   ]
  },
  {
   "cell_type": "code",
   "execution_count": 5,
   "metadata": {},
   "outputs": [
    {
     "name": "stdout",
     "output_type": "stream",
     "text": [
      "Overwriting server.js\n"
     ]
    }
   ],
   "source": [
    "%%writefile server.js\n",
    "var PROTO_PATH = \"../protos/chatbot.proto\";\n",
    "\n",
    "var grpc = require(\"@grpc/grpc-js\");\n",
    "var protoLoader = require(\"@grpc/proto-loader\");\n",
    "var packageDefinition = protoLoader.loadSync(PROTO_PATH, {\n",
    "  keepCase: true,\n",
    "  longs: String,\n",
    "  enums: String,\n",
    "  defaults: true,\n",
    "  oneofs: true,\n",
    "});\n",
    "var chat_proto = grpc.loadPackageDefinition(packageDefinition).chatPack;\n",
    "\n",
    "function ChatFunc(call, cb_Reply) {\n",
    "  \n",
    "  // console.log(\"ChatFunc:\", call.metadata.get(\"apikey\"));\n",
    "  console.log(\"ChatFunc:\", call.request.name);\n",
    "  cb_Reply(null, { result: \"Hello \" + call.request.name });\n",
    "}\n",
    "function ChatStream(call) {\n",
    "  console.log(\"ChatStream:\");\n",
    "  call.on(\"data\", function (st) {\n",
    "    console.log(\"data:\", st.name);\n",
    "    for (let x = 0; x < 5; x++) {\n",
    "      const dataToSend = {\n",
    "        name: \"blue\",\n",
    "        result: x,\n",
    "      };\n",
    "      call.write(dataToSend);\n",
    "    }\n",
    "    call.end();\n",
    "  });\n",
    "}\n",
    "\n",
    "function main() {\n",
    "  var server = new grpc.Server();\n",
    "  server.addService(chat_proto.ChatService.service, {\n",
    "    ChatFunc: ChatFunc,\n",
    "    ChatStream: ChatStream,\n",
    "  });\n",
    "  server.bindAsync(\n",
    "    \"0.0.0.0:8099\",\n",
    "    grpc.ServerCredentials.createInsecure(),\n",
    "    () => {\n",
    "      server.start();\n",
    "    }\n",
    "  );\n",
    "}\n",
    "\n",
    "main();"
   ]
  },
  {
   "cell_type": "markdown",
   "metadata": {},
   "source": [
    "# Client"
   ]
  },
  {
   "cell_type": "code",
   "execution_count": 1,
   "metadata": {},
   "outputs": [
    {
     "name": "stdout",
     "output_type": "stream",
     "text": [
      "Overwriting client.js\n"
     ]
    }
   ],
   "source": [
    "%%writefile client.js\n",
    "var PROTO_PATH = \"../protos/chatbot.proto\";\n",
    "\n",
    "var grpc = require(\"@grpc/grpc-js\");\n",
    "var protoLoader = require(\"@grpc/proto-loader\");\n",
    "var packageDefinition = protoLoader.loadSync(PROTO_PATH, {\n",
    "  keepCase: true,\n",
    "  longs: String,\n",
    "  enums: String,\n",
    "  defaults: true,\n",
    "  oneofs: true,\n",
    "});\n",
    "var chat_proto = grpc.loadPackageDefinition(packageDefinition).chatPack;\n",
    "const dataToSend = {\n",
    "  name: \"blue\",\n",
    "  result: 0,\n",
    "};\n",
    "function main() {\n",
    "  var client = new chat_proto.ChatService(\n",
    "    \"localhost:8099\",\n",
    "    grpc.credentials.createInsecure()\n",
    "  );\n",
    "\n",
    "  var user = \"blue\";\n",
    "  var meta = new grpc.Metadata();\n",
    "  meta.add('apikey', '12345678');\n",
    "  client.ChatFunc({ name: user }, meta,function (err, response) {\n",
    "    console.log(\"Service response :\", response.result);\n",
    "  });\n",
    "}\n",
    "console.log(\"begin\");\n",
    "main();\n",
    "console.log(\"end\");\n"
   ]
  },
  {
   "cell_type": "code",
   "execution_count": 2,
   "metadata": {},
   "outputs": [
    {
     "name": "stdout",
     "output_type": "stream",
     "text": [
      "begin\n",
      "end\n",
      "Service response : Hello blue\n"
     ]
    }
   ],
   "source": [
    "! node client"
   ]
  },
  {
   "cell_type": "code",
   "execution_count": 6,
   "metadata": {},
   "outputs": [
    {
     "name": "stdout",
     "output_type": "stream",
     "text": [
      "Overwriting streamClient.js\n"
     ]
    }
   ],
   "source": [
    "%%writefile streamClient.js\n",
    "var PROTO_PATH = \"../protos/chatbot.proto\";\n",
    "\n",
    "var grpc = require(\"@grpc/grpc-js\");\n",
    "var protoLoader = require(\"@grpc/proto-loader\");\n",
    "var packageDefinition = protoLoader.loadSync(PROTO_PATH, {\n",
    "  keepCase: true,\n",
    "  longs: String,\n",
    "  enums: String,\n",
    "  defaults: true,\n",
    "  oneofs: true,\n",
    "});\n",
    "var chat_proto = grpc.loadPackageDefinition(packageDefinition).chatPack;\n",
    "const dataToSend = {\n",
    "  name: \"blue\",\n",
    "  result: 0,\n",
    "};\n",
    "function main() {\n",
    "  var client = new chat_proto.ChatService(\n",
    "    \"localhost:8099\",\n",
    "    grpc.credentials.createInsecure()\n",
    "  );\n",
    "  var call = client.ChatStream();\n",
    "\n",
    "  call.write(dataToSend);\n",
    "  call.on(\"data\", function (st) {\n",
    "    console.log(\"Service stream :\", st.result);\n",
    "  });\n",
    "  call.on(\"end\", function () {\n",
    "    console.log(\"end:\");\n",
    "  });\n",
    "}\n",
    "console.log(\"begin\");\n",
    "main();\n",
    "console.log(\"end\");\n"
   ]
  },
  {
   "cell_type": "code",
   "execution_count": 7,
   "metadata": {},
   "outputs": [
    {
     "name": "stdout",
     "output_type": "stream",
     "text": [
      "begin\n",
      "end\n",
      "Service stream : 0\n",
      "Service stream : 1\n",
      "Service stream : 2\n",
      "Service stream : 3\n",
      "Service stream : 4\n",
      "end:\n"
     ]
    }
   ],
   "source": [
    "! node streamClient"
   ]
  }
 ],
 "metadata": {
  "kernelspec": {
   "display_name": "Python 3",
   "language": "python",
   "name": "python3"
  },
  "language_info": {
   "codemirror_mode": {
    "name": "ipython",
    "version": 3
   },
   "file_extension": ".py",
   "mimetype": "text/x-python",
   "name": "python",
   "nbconvert_exporter": "python",
   "pygments_lexer": "ipython3",
   "version": "3.11.9"
  }
 },
 "nbformat": 4,
 "nbformat_minor": 2
}
